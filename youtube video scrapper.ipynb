{
 "cells": [
  {
   "cell_type": "code",
   "execution_count": 2,
   "metadata": {},
   "outputs": [],
   "source": [
    "link='https://www.youtube.com/@GeeksforGeeksVideos/videos'"
   ]
  },
  {
   "cell_type": "code",
   "execution_count": 3,
   "metadata": {},
   "outputs": [
    {
     "data": {
      "text/plain": [
       "'https://www.youtube.com/@GeeksforGeeksVideos/videos'"
      ]
     },
     "execution_count": 3,
     "metadata": {},
     "output_type": "execute_result"
    }
   ],
   "source": [
    "link"
   ]
  },
  {
   "cell_type": "code",
   "execution_count": 4,
   "metadata": {},
   "outputs": [],
   "source": [
    "import requests"
   ]
  },
  {
   "cell_type": "code",
   "execution_count": 5,
   "metadata": {},
   "outputs": [],
   "source": [
    "from bs4 import BeautifulSoup"
   ]
  },
  {
   "cell_type": "code",
   "execution_count": 6,
   "metadata": {},
   "outputs": [],
   "source": [
    "res=requests.get(link)"
   ]
  },
  {
   "cell_type": "code",
   "execution_count": 9,
   "metadata": {},
   "outputs": [],
   "source": [
    "soup=BeautifulSoup(res.text,'html.parser')"
   ]
  },
  {
   "cell_type": "code",
   "execution_count": 11,
   "metadata": {},
   "outputs": [
    {
     "data": {
      "text/plain": [
       "'AboutPressCopyrightContact usCreatorAdvertiseDevelopersTermsPrivacyPolicy & SafetyHow YouTube worksTest new features© 2023 Google LLCGeeksforGeeks - YouTube'"
      ]
     },
     "execution_count": 11,
     "metadata": {},
     "output_type": "execute_result"
    }
   ],
   "source": [
    "soup.text"
   ]
  },
  {
   "cell_type": "code",
   "execution_count": 12,
   "metadata": {},
   "outputs": [
    {
     "name": "stderr",
     "output_type": "stream",
     "text": [
      "ERROR: Could not find a version that satisfies the requirement selenim (from versions: none)\n",
      "ERROR: No matching distribution found for selenim\n",
      "\n",
      "[notice] A new release of pip available: 22.2.1 -> 23.0.1\n",
      "[notice] To update, run: python.exe -m pip install --upgrade pip\n"
     ]
    }
   ],
   "source": [
    "!pip install selenim"
   ]
  },
  {
   "cell_type": "code",
   "execution_count": 13,
   "metadata": {},
   "outputs": [
    {
     "name": "stdout",
     "output_type": "stream",
     "text": [
      "Requirement already satisfied: selenium in c:\\users\\abhishek\\appdata\\local\\programs\\python\\python310\\lib\\site-packages (4.4.3)\n",
      "Requirement already satisfied: trio-websocket~=0.9 in c:\\users\\abhishek\\appdata\\local\\programs\\python\\python310\\lib\\site-packages (from selenium) (0.9.2)\n",
      "Requirement already satisfied: trio~=0.17 in c:\\users\\abhishek\\appdata\\local\\programs\\python\\python310\\lib\\site-packages (from selenium) (0.21.0)\n",
      "Requirement already satisfied: urllib3[socks]~=1.26 in c:\\users\\abhishek\\appdata\\local\\programs\\python\\python310\\lib\\site-packages (from selenium) (1.26.12)\n",
      "Requirement already satisfied: certifi>=2021.10.8 in c:\\users\\abhishek\\appdata\\local\\programs\\python\\python310\\lib\\site-packages (from selenium) (2022.9.14)\n",
      "Requirement already satisfied: outcome in c:\\users\\abhishek\\appdata\\local\\programs\\python\\python310\\lib\\site-packages (from trio~=0.17->selenium) (1.2.0)\n",
      "Requirement already satisfied: sortedcontainers in c:\\users\\abhishek\\appdata\\local\\programs\\python\\python310\\lib\\site-packages (from trio~=0.17->selenium) (2.4.0)\n",
      "Requirement already satisfied: attrs>=19.2.0 in c:\\users\\abhishek\\appdata\\local\\programs\\python\\python310\\lib\\site-packages (from trio~=0.17->selenium) (22.1.0)\n",
      "Requirement already satisfied: idna in c:\\users\\abhishek\\appdata\\local\\programs\\python\\python310\\lib\\site-packages (from trio~=0.17->selenium) (3.4)\n",
      "Requirement already satisfied: cffi>=1.14 in c:\\users\\abhishek\\appdata\\local\\programs\\python\\python310\\lib\\site-packages (from trio~=0.17->selenium) (1.15.1)\n",
      "Requirement already satisfied: async-generator>=1.9 in c:\\users\\abhishek\\appdata\\local\\programs\\python\\python310\\lib\\site-packages (from trio~=0.17->selenium) (1.10)\n",
      "Requirement already satisfied: sniffio in c:\\users\\abhishek\\appdata\\local\\programs\\python\\python310\\lib\\site-packages (from trio~=0.17->selenium) (1.3.0)\n",
      "Requirement already satisfied: wsproto>=0.14 in c:\\users\\abhishek\\appdata\\local\\programs\\python\\python310\\lib\\site-packages (from trio-websocket~=0.9->selenium) (1.2.0)\n",
      "Requirement already satisfied: PySocks!=1.5.7,<2.0,>=1.5.6 in c:\\users\\abhishek\\appdata\\local\\programs\\python\\python310\\lib\\site-packages (from urllib3[socks]~=1.26->selenium) (1.7.1)\n",
      "Requirement already satisfied: pycparser in c:\\users\\abhishek\\appdata\\local\\programs\\python\\python310\\lib\\site-packages (from cffi>=1.14->trio~=0.17->selenium) (2.21)\n",
      "Requirement already satisfied: h11<1,>=0.9.0 in c:\\users\\abhishek\\appdata\\local\\programs\\python\\python310\\lib\\site-packages (from wsproto>=0.14->trio-websocket~=0.9->selenium) (0.13.0)\n",
      "Note: you may need to restart the kernel to use updated packages.\n"
     ]
    },
    {
     "name": "stderr",
     "output_type": "stream",
     "text": [
      "\n",
      "[notice] A new release of pip available: 22.2.1 -> 23.0.1\n",
      "[notice] To update, run: python.exe -m pip install --upgrade pip\n"
     ]
    }
   ],
   "source": [
    "pip install selenium"
   ]
  },
  {
   "cell_type": "code",
   "execution_count": 1,
   "metadata": {},
   "outputs": [],
   "source": [
    "import selenium"
   ]
  },
  {
   "cell_type": "code",
   "execution_count": 2,
   "metadata": {},
   "outputs": [],
   "source": [
    "from selenium import webdriver"
   ]
  },
  {
   "cell_type": "code",
   "execution_count": 10,
   "metadata": {},
   "outputs": [
    {
     "name": "stderr",
     "output_type": "stream",
     "text": [
      "C:\\Users\\Abhishek\\AppData\\Local\\Temp\\ipykernel_10940\\2049758105.py:1: DeprecationWarning: executable_path has been deprecated, please pass in a Service object\n",
      "  webdriver.Chrome(r\"C:\\Users\\Abhishek\\Downloads\\chromedriver_win32\\chromedriver.exe\")\n"
     ]
    },
    {
     "data": {
      "text/plain": [
       "<selenium.webdriver.chrome.webdriver.WebDriver (session=\"ae845ad9fafe847bf3ad455065978529\")>"
      ]
     },
     "execution_count": 10,
     "metadata": {},
     "output_type": "execute_result"
    }
   ],
   "source": [
    "webdriver.Chrome(r\"C:\\Users\\Abhishek\\Downloads\\chromedriver_win32\\chromedriver.exe\")"
   ]
  },
  {
   "cell_type": "code",
   "execution_count": 11,
   "metadata": {},
   "outputs": [
    {
     "name": "stdout",
     "output_type": "stream",
     "text": [
      "Collecting chromedriver_binary\n",
      "  Downloading chromedriver-binary-111.0.5563.64.0.tar.gz (5.1 kB)\n",
      "  Preparing metadata (setup.py): started\n",
      "  Preparing metadata (setup.py): finished with status 'done'\n",
      "Building wheels for collected packages: chromedriver_binary\n",
      "  Building wheel for chromedriver_binary (setup.py): started\n",
      "  Building wheel for chromedriver_binary (setup.py): still running...\n",
      "  Building wheel for chromedriver_binary (setup.py): finished with status 'error'\n",
      "  Running setup.py clean for chromedriver_binary\n",
      "Failed to build chromedriver_binary\n",
      "Installing collected packages: chromedriver_binary\n",
      "  Running setup.py install for chromedriver_binary: started\n",
      "  Running setup.py install for chromedriver_binary: finished with status 'error'\n",
      "Note: you may need to restart the kernel to use updated packages.\n"
     ]
    },
    {
     "name": "stderr",
     "output_type": "stream",
     "text": [
      "  error: subprocess-exited-with-error\n",
      "  \n",
      "  × python setup.py bdist_wheel did not run successfully.\n",
      "  │ exit code: 1\n",
      "  ╰─> [40 lines of output]\n",
      "      running bdist_wheel\n",
      "      running build\n",
      "      running build_py\n",
      "      \n",
      "      Downloading Chromedriver...\n",
      "      \n",
      "      C:\\Users\\Abhishek\\AppData\\Local\\Temp\\pip-install-tq8kch95\\chromedriver-binary_a19bd04fb1494d03b20005e4f9c51cd8\\setup.py:45: DeprecationWarning: ssl.PROTOCOL_TLS is deprecated\n",
      "        response = urlopen(url, context=ssl.SSLContext(protocol=ssl.PROTOCOL_TLS))\n",
      "      Traceback (most recent call last):\n",
      "        File \"<string>\", line 2, in <module>\n",
      "        File \"<pip-setuptools-caller>\", line 34, in <module>\n",
      "        File \"C:\\Users\\Abhishek\\AppData\\Local\\Temp\\pip-install-tq8kch95\\chromedriver-binary_a19bd04fb1494d03b20005e4f9c51cd8\\setup.py\", line 60, in <module>\n",
      "          setup(\n",
      "        File \"c:\\Users\\Abhishek\\AppData\\Local\\Programs\\Python\\Python310\\lib\\site-packages\\setuptools\\__init__.py\", line 153, in setup\n",
      "          return distutils.core.setup(**attrs)\n",
      "        File \"c:\\Users\\Abhishek\\AppData\\Local\\Programs\\Python\\Python310\\lib\\distutils\\core.py\", line 148, in setup\n",
      "          dist.run_commands()\n",
      "        File \"c:\\Users\\Abhishek\\AppData\\Local\\Programs\\Python\\Python310\\lib\\distutils\\dist.py\", line 966, in run_commands\n",
      "          self.run_command(cmd)\n",
      "        File \"c:\\Users\\Abhishek\\AppData\\Local\\Programs\\Python\\Python310\\lib\\distutils\\dist.py\", line 985, in run_command\n",
      "          cmd_obj.run()\n",
      "        File \"c:\\Users\\Abhishek\\AppData\\Local\\Programs\\Python\\Python310\\lib\\site-packages\\wheel\\bdist_wheel.py\", line 325, in run\n",
      "          self.run_command(\"build\")\n",
      "        File \"c:\\Users\\Abhishek\\AppData\\Local\\Programs\\Python\\Python310\\lib\\distutils\\cmd.py\", line 313, in run_command\n",
      "          self.distribution.run_command(command)\n",
      "        File \"c:\\Users\\Abhishek\\AppData\\Local\\Programs\\Python\\Python310\\lib\\distutils\\dist.py\", line 985, in run_command\n",
      "          cmd_obj.run()\n",
      "        File \"c:\\Users\\Abhishek\\AppData\\Local\\Programs\\Python\\Python310\\lib\\distutils\\command\\build.py\", line 135, in run\n",
      "          self.run_command(cmd_name)\n",
      "        File \"c:\\Users\\Abhishek\\AppData\\Local\\Programs\\Python\\Python310\\lib\\distutils\\cmd.py\", line 313, in run_command\n",
      "          self.distribution.run_command(command)\n",
      "        File \"c:\\Users\\Abhishek\\AppData\\Local\\Programs\\Python\\Python310\\lib\\distutils\\dist.py\", line 985, in run_command\n",
      "          cmd_obj.run()\n",
      "        File \"C:\\Users\\Abhishek\\AppData\\Local\\Temp\\pip-install-tq8kch95\\chromedriver-binary_a19bd04fb1494d03b20005e4f9c51cd8\\setup.py\", line 50, in run\n",
      "          archive = BytesIO(response.read())\n",
      "        File \"c:\\Users\\Abhishek\\AppData\\Local\\Programs\\Python\\Python310\\lib\\http\\client.py\", line 480, in read\n",
      "          s = self._safe_read(self.length)\n",
      "        File \"c:\\Users\\Abhishek\\AppData\\Local\\Programs\\Python\\Python310\\lib\\http\\client.py\", line 631, in _safe_read\n",
      "          raise IncompleteRead(data, amt-len(data))\n",
      "      http.client.IncompleteRead: IncompleteRead(7037964 bytes read, 79179 more expected)\n",
      "      [end of output]\n",
      "  \n",
      "  note: This error originates from a subprocess, and is likely not a problem with pip.\n",
      "  ERROR: Failed building wheel for chromedriver_binary\n",
      "  error: subprocess-exited-with-error\n",
      "  \n",
      "  × Running setup.py install for chromedriver_binary did not run successfully.\n",
      "  │ exit code: 1\n",
      "  ╰─> [82 lines of output]\n",
      "      running install\n",
      "      running build\n",
      "      running build_py\n",
      "      \n",
      "      Downloading Chromedriver...\n",
      "      \n",
      "      C:\\Users\\Abhishek\\AppData\\Local\\Temp\\pip-install-tq8kch95\\chromedriver-binary_a19bd04fb1494d03b20005e4f9c51cd8\\setup.py:45: DeprecationWarning: ssl.PROTOCOL_TLS is deprecated\n",
      "        response = urlopen(url, context=ssl.SSLContext(protocol=ssl.PROTOCOL_TLS))\n",
      "      Traceback (most recent call last):\n",
      "        File \"c:\\Users\\Abhishek\\AppData\\Local\\Programs\\Python\\Python310\\lib\\urllib\\request.py\", line 1348, in do_open\n",
      "          h.request(req.get_method(), req.selector, req.data, headers,\n",
      "        File \"c:\\Users\\Abhishek\\AppData\\Local\\Programs\\Python\\Python310\\lib\\http\\client.py\", line 1276, in request\n",
      "          self._send_request(method, url, body, headers, encode_chunked)\n",
      "        File \"c:\\Users\\Abhishek\\AppData\\Local\\Programs\\Python\\Python310\\lib\\http\\client.py\", line 1322, in _send_request\n",
      "          self.endheaders(body, encode_chunked=encode_chunked)\n",
      "        File \"c:\\Users\\Abhishek\\AppData\\Local\\Programs\\Python\\Python310\\lib\\http\\client.py\", line 1271, in endheaders\n",
      "          self._send_output(message_body, encode_chunked=encode_chunked)\n",
      "        File \"c:\\Users\\Abhishek\\AppData\\Local\\Programs\\Python\\Python310\\lib\\http\\client.py\", line 1031, in _send_output\n",
      "          self.send(msg)\n",
      "        File \"c:\\Users\\Abhishek\\AppData\\Local\\Programs\\Python\\Python310\\lib\\http\\client.py\", line 969, in send\n",
      "          self.connect()\n",
      "        File \"c:\\Users\\Abhishek\\AppData\\Local\\Programs\\Python\\Python310\\lib\\http\\client.py\", line 1441, in connect\n",
      "          super().connect()\n",
      "        File \"c:\\Users\\Abhishek\\AppData\\Local\\Programs\\Python\\Python310\\lib\\http\\client.py\", line 940, in connect\n",
      "          self.sock = self._create_connection(\n",
      "        File \"c:\\Users\\Abhishek\\AppData\\Local\\Programs\\Python\\Python310\\lib\\socket.py\", line 824, in create_connection\n",
      "          for res in getaddrinfo(host, port, 0, SOCK_STREAM):\n",
      "        File \"c:\\Users\\Abhishek\\AppData\\Local\\Programs\\Python\\Python310\\lib\\socket.py\", line 955, in getaddrinfo\n",
      "          for res in _socket.getaddrinfo(host, port, family, type, proto, flags):\n",
      "      socket.gaierror: [Errno 11001] getaddrinfo failed\n",
      "      \n",
      "      During handling of the above exception, another exception occurred:\n",
      "      \n",
      "      Traceback (most recent call last):\n",
      "        File \"C:\\Users\\Abhishek\\AppData\\Local\\Temp\\pip-install-tq8kch95\\chromedriver-binary_a19bd04fb1494d03b20005e4f9c51cd8\\setup.py\", line 45, in run\n",
      "          response = urlopen(url, context=ssl.SSLContext(protocol=ssl.PROTOCOL_TLS))\n",
      "        File \"c:\\Users\\Abhishek\\AppData\\Local\\Programs\\Python\\Python310\\lib\\urllib\\request.py\", line 216, in urlopen\n",
      "          return opener.open(url, data, timeout)\n",
      "        File \"c:\\Users\\Abhishek\\AppData\\Local\\Programs\\Python\\Python310\\lib\\urllib\\request.py\", line 519, in open\n",
      "          response = self._open(req, data)\n",
      "        File \"c:\\Users\\Abhishek\\AppData\\Local\\Programs\\Python\\Python310\\lib\\urllib\\request.py\", line 536, in _open\n",
      "          result = self._call_chain(self.handle_open, protocol, protocol +\n",
      "        File \"c:\\Users\\Abhishek\\AppData\\Local\\Programs\\Python\\Python310\\lib\\urllib\\request.py\", line 496, in _call_chain\n",
      "          result = func(*args)\n",
      "        File \"c:\\Users\\Abhishek\\AppData\\Local\\Programs\\Python\\Python310\\lib\\urllib\\request.py\", line 1391, in https_open\n",
      "          return self.do_open(http.client.HTTPSConnection, req,\n",
      "        File \"c:\\Users\\Abhishek\\AppData\\Local\\Programs\\Python\\Python310\\lib\\urllib\\request.py\", line 1351, in do_open\n",
      "          raise URLError(err)\n",
      "      urllib.error.URLError: <urlopen error [Errno 11001] getaddrinfo failed>\n",
      "      \n",
      "      During handling of the above exception, another exception occurred:\n",
      "      \n",
      "      Traceback (most recent call last):\n",
      "        File \"<string>\", line 2, in <module>\n",
      "        File \"<pip-setuptools-caller>\", line 34, in <module>\n",
      "        File \"C:\\Users\\Abhishek\\AppData\\Local\\Temp\\pip-install-tq8kch95\\chromedriver-binary_a19bd04fb1494d03b20005e4f9c51cd8\\setup.py\", line 60, in <module>\n",
      "          setup(\n",
      "        File \"c:\\Users\\Abhishek\\AppData\\Local\\Programs\\Python\\Python310\\lib\\site-packages\\setuptools\\__init__.py\", line 153, in setup\n",
      "          return distutils.core.setup(**attrs)\n",
      "        File \"c:\\Users\\Abhishek\\AppData\\Local\\Programs\\Python\\Python310\\lib\\distutils\\core.py\", line 148, in setup\n",
      "          dist.run_commands()\n",
      "        File \"c:\\Users\\Abhishek\\AppData\\Local\\Programs\\Python\\Python310\\lib\\distutils\\dist.py\", line 966, in run_commands\n",
      "          self.run_command(cmd)\n",
      "        File \"c:\\Users\\Abhishek\\AppData\\Local\\Programs\\Python\\Python310\\lib\\distutils\\dist.py\", line 985, in run_command\n",
      "          cmd_obj.run()\n",
      "        File \"c:\\Users\\Abhishek\\AppData\\Local\\Programs\\Python\\Python310\\lib\\site-packages\\setuptools\\command\\install.py\", line 61, in run\n",
      "          return orig.install.run(self)\n",
      "        File \"c:\\Users\\Abhishek\\AppData\\Local\\Programs\\Python\\Python310\\lib\\distutils\\command\\install.py\", line 568, in run\n",
      "          self.run_command('build')\n",
      "        File \"c:\\Users\\Abhishek\\AppData\\Local\\Programs\\Python\\Python310\\lib\\distutils\\cmd.py\", line 313, in run_command\n",
      "          self.distribution.run_command(command)\n",
      "        File \"c:\\Users\\Abhishek\\AppData\\Local\\Programs\\Python\\Python310\\lib\\distutils\\dist.py\", line 985, in run_command\n",
      "          cmd_obj.run()\n",
      "        File \"c:\\Users\\Abhishek\\AppData\\Local\\Programs\\Python\\Python310\\lib\\distutils\\command\\build.py\", line 135, in run\n",
      "          self.run_command(cmd_name)\n",
      "        File \"c:\\Users\\Abhishek\\AppData\\Local\\Programs\\Python\\Python310\\lib\\distutils\\cmd.py\", line 313, in run_command\n",
      "          self.distribution.run_command(command)\n",
      "        File \"c:\\Users\\Abhishek\\AppData\\Local\\Programs\\Python\\Python310\\lib\\distutils\\dist.py\", line 985, in run_command\n",
      "          cmd_obj.run()\n",
      "        File \"C:\\Users\\Abhishek\\AppData\\Local\\Temp\\pip-install-tq8kch95\\chromedriver-binary_a19bd04fb1494d03b20005e4f9c51cd8\\setup.py\", line 49, in run\n",
      "          raise RuntimeError('Failed to download chromedriver archive: {}'.format(url))\n",
      "      RuntimeError: Failed to download chromedriver archive: https://chromedriver.storage.googleapis.com/111.0.5563.64/chromedriver_win32.zip\n",
      "      [end of output]\n",
      "  \n",
      "  note: This error originates from a subprocess, and is likely not a problem with pip.\n",
      "error: legacy-install-failure\n",
      "\n",
      "× Encountered error while trying to install package.\n",
      "╰─> chromedriver_binary\n",
      "\n",
      "note: This is an issue with the package mentioned above, not pip.\n",
      "hint: See above for output from the failure.\n",
      "\n",
      "[notice] A new release of pip available: 22.2.1 -> 23.0.1\n",
      "[notice] To update, run: python.exe -m pip install --upgrade pip\n"
     ]
    }
   ],
   "source": [
    "pip install chromedriver_binary"
   ]
  },
  {
   "cell_type": "code",
   "execution_count": 12,
   "metadata": {},
   "outputs": [
    {
     "name": "stdout",
     "output_type": "stream",
     "text": [
      "Collecting chromedriver-binary\n",
      "  Using cached chromedriver-binary-111.0.5563.64.0.tar.gz (5.1 kB)\n",
      "  Preparing metadata (setup.py): started\n",
      "  Preparing metadata (setup.py): finished with status 'done'\n",
      "Building wheels for collected packages: chromedriver-binary\n",
      "  Building wheel for chromedriver-binary (setup.py): started\n",
      "  Building wheel for chromedriver-binary (setup.py): finished with status 'done'\n",
      "  Created wheel for chromedriver-binary: filename=chromedriver_binary-111.0.5563.64.0-py3-none-any.whl size=7081098 sha256=d4f2e156fe00fa0fc032ce67e47a9d78e69c722d13babac8518a50aaf974904b\n",
      "  Stored in directory: c:\\users\\abhishek\\appdata\\local\\pip\\cache\\wheels\\13\\77\\2c\\21d61429f7d4d3ebae49530e2746d65f69c74170a92b0e1abe\n",
      "Successfully built chromedriver-binary\n",
      "Installing collected packages: chromedriver-binary\n",
      "Successfully installed chromedriver-binary-111.0.5563.64.0\n",
      "Note: you may need to restart the kernel to use updated packages.\n"
     ]
    },
    {
     "name": "stderr",
     "output_type": "stream",
     "text": [
      "\n",
      "[notice] A new release of pip available: 22.2.1 -> 23.0.1\n",
      "[notice] To update, run: python.exe -m pip install --upgrade pip\n"
     ]
    }
   ],
   "source": [
    "pip install chromedriver-binary\n"
   ]
  },
  {
   "cell_type": "code",
   "execution_count": 13,
   "metadata": {},
   "outputs": [],
   "source": [
    "import chromedriver_binary"
   ]
  },
  {
   "cell_type": "code",
   "execution_count": 15,
   "metadata": {},
   "outputs": [],
   "source": [
    "path=chromedriver_binary.chromedriver_filename"
   ]
  },
  {
   "cell_type": "code",
   "execution_count": 16,
   "metadata": {},
   "outputs": [
    {
     "data": {
      "text/plain": [
       "'c:\\\\Users\\\\Abhishek\\\\AppData\\\\Local\\\\Programs\\\\Python\\\\Python310\\\\lib\\\\site-packages\\\\chromedriver_binary\\\\chromedriver.exe'"
      ]
     },
     "execution_count": 16,
     "metadata": {},
     "output_type": "execute_result"
    }
   ],
   "source": [
    "path"
   ]
  },
  {
   "cell_type": "code",
   "execution_count": 18,
   "metadata": {},
   "outputs": [
    {
     "name": "stderr",
     "output_type": "stream",
     "text": [
      "C:\\Users\\Abhishek\\AppData\\Local\\Temp\\ipykernel_10940\\3558225199.py:1: DeprecationWarning: executable_path has been deprecated, please pass in a Service object\n",
      "  driver=webdriver.Chrome(path)\n"
     ]
    }
   ],
   "source": [
    "driver=webdriver.Chrome(path)"
   ]
  },
  {
   "cell_type": "code",
   "execution_count": null,
   "metadata": {},
   "outputs": [],
   "source": []
  }
 ],
 "metadata": {
  "kernelspec": {
   "display_name": "Python 3",
   "language": "python",
   "name": "python3"
  },
  "language_info": {
   "codemirror_mode": {
    "name": "ipython",
    "version": 3
   },
   "file_extension": ".py",
   "mimetype": "text/x-python",
   "name": "python",
   "nbconvert_exporter": "python",
   "pygments_lexer": "ipython3",
   "version": "3.10.0"
  },
  "orig_nbformat": 4
 },
 "nbformat": 4,
 "nbformat_minor": 2
}
